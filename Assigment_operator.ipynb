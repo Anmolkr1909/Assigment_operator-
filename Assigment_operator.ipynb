{
  "nbformat": 4,
  "nbformat_minor": 0,
  "metadata": {
    "colab": {
      "provenance": [],
      "authorship_tag": "ABX9TyNHW3cAjXmklrWm2JvBiq0J",
      "include_colab_link": true
    },
    "kernelspec": {
      "name": "python3",
      "display_name": "Python 3"
    },
    "language_info": {
      "name": "python"
    }
  },
  "cells": [
    {
      "cell_type": "markdown",
      "metadata": {
        "id": "view-in-github",
        "colab_type": "text"
      },
      "source": [
        "<a href=\"https://colab.research.google.com/github/Anmolkr1909/Assigment_operator-/blob/main/Assigment_operator.ipynb\" target=\"_parent\"><img src=\"https://colab.research.google.com/assets/colab-badge.svg\" alt=\"Open In Colab\"/></a>"
      ]
    },
    {
      "cell_type": "markdown",
      "source": [
        "**# Assigment opererator**\n",
        "\n",
        "---\n",
        "\n"
      ],
      "metadata": {
        "id": "RK-wWbvVNVCu"
      }
    },
    {
      "cell_type": "markdown",
      "source": [
        "25) Bank balancer updater\n",
        "\n",
        "*   using ( += )\n",
        "*   using ( -= )\n",
        "\n"
      ],
      "metadata": {
        "id": "5IwJL5zINosd"
      }
    },
    {
      "cell_type": "code",
      "source": [
        "balance = 10000\n",
        "\n",
        "\n",
        "# Adding salary\n",
        "balance += 60000\n",
        "print(\"the current balance\",balance)\n",
        "\n",
        "\n",
        "# subtracting electicity bill\n",
        "x = int(input(\"enter the amount of electricity bill\"))\n",
        "balance -= x\n",
        "print(\"the substracting for electric bill:\",x)\n",
        "\n",
        "print(\"the current bill\",balance)"
      ],
      "metadata": {
        "colab": {
          "base_uri": "https://localhost:8080/"
        },
        "id": "YttSifBJOa6S",
        "outputId": "5b3d4bf7-06a8-46e3-ea4d-5e531b928c7f"
      },
      "execution_count": 11,
      "outputs": [
        {
          "output_type": "stream",
          "name": "stdout",
          "text": [
            "the current balance 70000\n",
            "enter the amount of electricity bill3000\n",
            "the substracting for electric bill: 3000\n",
            "the current bill 67000\n"
          ]
        }
      ]
    },
    {
      "cell_type": "markdown",
      "source": [
        "\n",
        "\n",
        "---\n",
        "\n"
      ],
      "metadata": {
        "id": "msw9WjuWWOqQ"
      }
    },
    {
      "cell_type": "markdown",
      "source": [
        "26) Online shopping cart total\n",
        "\n",
        "*   \n",
        "using ( += )\n"
      ],
      "metadata": {
        "id": "gGFmGCewRWPp"
      }
    },
    {
      "cell_type": "code",
      "source": [
        "total_price = 0\n",
        "\n",
        "\n",
        "# adding item to cart\n",
        "\n",
        "total_price  +=  422   #item 1\n",
        "total_price  +=  90    #item 2\n",
        "total_price  +=  8     #item 3\n",
        "\n",
        "print(\"the total price\",total_price)\n"
      ],
      "metadata": {
        "colab": {
          "base_uri": "https://localhost:8080/"
        },
        "id": "-rejCisMR7ik",
        "outputId": "8fb16c0b-4ef4-47cf-8427-275f197821fc"
      },
      "execution_count": 12,
      "outputs": [
        {
          "output_type": "stream",
          "name": "stdout",
          "text": [
            "the total price 520\n"
          ]
        }
      ]
    },
    {
      "cell_type": "markdown",
      "source": [
        "\n",
        "\n",
        "---\n",
        "\n"
      ],
      "metadata": {
        "id": "uOktdRMzWNbj"
      }
    },
    {
      "cell_type": "markdown",
      "source": [
        "27) Student mark updater\n",
        "\n",
        "*   using ( += )\n",
        "*   using ( /= )\n",
        "\n"
      ],
      "metadata": {
        "id": "XMo3yogFToL6"
      }
    },
    {
      "cell_type": "code",
      "source": [
        "marks = 0\n",
        "\n",
        "# Add mark of 3 subject\n",
        "marks += 75\n",
        "marks += 80\n",
        "marks += 63\n",
        "\n",
        "\n",
        "#calculate average\n",
        "marks /= 3\n",
        "\n",
        "\n",
        "print(\"the average marks\",marks)\n"
      ],
      "metadata": {
        "colab": {
          "base_uri": "https://localhost:8080/"
        },
        "id": "OA_A3cwWUMne",
        "outputId": "06558c82-327e-4b70-a3d2-24d8b1dd1c43"
      },
      "execution_count": 13,
      "outputs": [
        {
          "output_type": "stream",
          "name": "stdout",
          "text": [
            "the average marks 72.66666666666667\n"
          ]
        }
      ]
    },
    {
      "cell_type": "markdown",
      "source": [
        "\n",
        "\n",
        "---\n",
        "\n"
      ],
      "metadata": {
        "id": "sCq3doVYVYi9"
      }
    },
    {
      "cell_type": "markdown",
      "source": [
        "28) The power of a number\n",
        "\n",
        "\n",
        "*   using ( **= )\n"
      ],
      "metadata": {
        "id": "UbU8VZEtVaUm"
      }
    },
    {
      "cell_type": "code",
      "source": [
        "x = 2\n",
        "\n",
        "#raise the power of 8\n",
        "x **= 8\n",
        "\n",
        "print(\"the power of 8\",x)\n"
      ],
      "metadata": {
        "colab": {
          "base_uri": "https://localhost:8080/"
        },
        "id": "dM3kaAhDVrwG",
        "outputId": "65bceaf5-e071-459f-b380-dc6e68b97f62"
      },
      "execution_count": 14,
      "outputs": [
        {
          "output_type": "stream",
          "name": "stdout",
          "text": [
            "the power of 8 256\n"
          ]
        }
      ]
    },
    {
      "cell_type": "markdown",
      "source": [
        "\n",
        "\n",
        "---\n",
        "\n"
      ],
      "metadata": {
        "id": "kSnmwQIbWMBz"
      }
    }
  ]
}